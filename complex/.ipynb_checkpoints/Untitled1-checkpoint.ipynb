{
 "cells": [
  {
   "cell_type": "code",
   "execution_count": 14,
   "metadata": {},
   "outputs": [
    {
     "data": {
      "application/vnd.jupyter.widget-view+json": {
       "model_id": "03c9cbe1d2bf4220a33dcfb3de99383b",
       "version_major": 2,
       "version_minor": 0
      },
      "text/plain": [
       "HBox(children=(IntProgress(value=0, max=9), HTML(value='')))"
      ]
     },
     "metadata": {},
     "output_type": "display_data"
    },
    {
     "data": {
      "application/vnd.jupyter.widget-view+json": {
       "model_id": "76b8b7d21de443a9bd1083cd2370e5b7",
       "version_major": 2,
       "version_minor": 0
      },
      "text/plain": [
       "HBox(children=(IntProgress(value=0, max=4), HTML(value='')))"
      ]
     },
     "metadata": {},
     "output_type": "display_data"
    },
    {
     "data": {
      "application/vnd.jupyter.widget-view+json": {
       "model_id": "",
       "version_major": 2,
       "version_minor": 0
      },
      "text/plain": [
       "HBox(children=(IntProgress(value=0, max=20), HTML(value='')))"
      ]
     },
     "metadata": {},
     "output_type": "display_data"
    },
    {
     "name": "stdout",
     "output_type": "stream",
     "text": [
      "[4.85e-05 4.85e-04 4.85e-03 4.85e-02]\n"
     ]
    },
    {
     "data": {
      "application/vnd.jupyter.widget-view+json": {
       "model_id": "",
       "version_major": 2,
       "version_minor": 0
      },
      "text/plain": [
       "HBox(children=(IntProgress(value=0, max=20), HTML(value='')))"
      ]
     },
     "metadata": {},
     "output_type": "display_data"
    },
    {
     "name": "stdout",
     "output_type": "stream",
     "text": [
      "[3.75e-05 3.75e-04 3.75e-03 3.75e-02]\n"
     ]
    },
    {
     "data": {
      "application/vnd.jupyter.widget-view+json": {
       "model_id": "",
       "version_major": 2,
       "version_minor": 0
      },
      "text/plain": [
       "HBox(children=(IntProgress(value=0, max=20), HTML(value='')))"
      ]
     },
     "metadata": {},
     "output_type": "display_data"
    },
    {
     "name": "stdout",
     "output_type": "stream",
     "text": [
      "[2.7e-05 2.7e-04 2.7e-03 2.7e-02]\n"
     ]
    },
    {
     "data": {
      "application/vnd.jupyter.widget-view+json": {
       "model_id": "",
       "version_major": 2,
       "version_minor": 0
      },
      "text/plain": [
       "HBox(children=(IntProgress(value=0, max=20), HTML(value='')))"
      ]
     },
     "metadata": {},
     "output_type": "display_data"
    },
    {
     "name": "stdout",
     "output_type": "stream",
     "text": [
      "[2.e-05 2.e-04 2.e-03 2.e-02]\n"
     ]
    },
    {
     "data": {
      "application/vnd.jupyter.widget-view+json": {
       "model_id": "fffcd73591a4449f883ba579e8714bdc",
       "version_major": 2,
       "version_minor": 0
      },
      "text/plain": [
       "HBox(children=(IntProgress(value=0, max=4), HTML(value='')))"
      ]
     },
     "metadata": {},
     "output_type": "display_data"
    },
    {
     "data": {
      "application/vnd.jupyter.widget-view+json": {
       "model_id": "",
       "version_major": 2,
       "version_minor": 0
      },
      "text/plain": [
       "HBox(children=(IntProgress(value=0, max=20), HTML(value='')))"
      ]
     },
     "metadata": {},
     "output_type": "display_data"
    },
    {
     "name": "stdout",
     "output_type": "stream",
     "text": [
      "[7.05e-05 7.05e-04 7.05e-03 7.05e-02]\n"
     ]
    },
    {
     "data": {
      "application/vnd.jupyter.widget-view+json": {
       "model_id": "",
       "version_major": 2,
       "version_minor": 0
      },
      "text/plain": [
       "HBox(children=(IntProgress(value=0, max=20), HTML(value='')))"
      ]
     },
     "metadata": {},
     "output_type": "display_data"
    },
    {
     "name": "stdout",
     "output_type": "stream",
     "text": [
      "[5.45e-05 5.45e-04 5.45e-03 5.45e-02]\n"
     ]
    },
    {
     "data": {
      "application/vnd.jupyter.widget-view+json": {
       "model_id": "",
       "version_major": 2,
       "version_minor": 0
      },
      "text/plain": [
       "HBox(children=(IntProgress(value=0, max=20), HTML(value='')))"
      ]
     },
     "metadata": {},
     "output_type": "display_data"
    },
    {
     "name": "stdout",
     "output_type": "stream",
     "text": [
      "[3.85e-05 3.85e-04 3.85e-03 3.85e-02]\n"
     ]
    },
    {
     "data": {
      "application/vnd.jupyter.widget-view+json": {
       "model_id": "",
       "version_major": 2,
       "version_minor": 0
      },
      "text/plain": [
       "HBox(children=(IntProgress(value=0, max=20), HTML(value='')))"
      ]
     },
     "metadata": {},
     "output_type": "display_data"
    },
    {
     "name": "stdout",
     "output_type": "stream",
     "text": [
      "[2.5e-05 2.5e-04 2.5e-03 2.5e-02]\n"
     ]
    },
    {
     "data": {
      "application/vnd.jupyter.widget-view+json": {
       "model_id": "4736dbeb85c7449fbaa51d7a0bef1ebb",
       "version_major": 2,
       "version_minor": 0
      },
      "text/plain": [
       "HBox(children=(IntProgress(value=0, max=4), HTML(value='')))"
      ]
     },
     "metadata": {},
     "output_type": "display_data"
    },
    {
     "data": {
      "application/vnd.jupyter.widget-view+json": {
       "model_id": "",
       "version_major": 2,
       "version_minor": 0
      },
      "text/plain": [
       "HBox(children=(IntProgress(value=0, max=20), HTML(value='')))"
      ]
     },
     "metadata": {},
     "output_type": "display_data"
    },
    {
     "name": "stdout",
     "output_type": "stream",
     "text": [
      "[9.2e-05 9.2e-04 9.2e-03 9.2e-02]\n"
     ]
    },
    {
     "data": {
      "application/vnd.jupyter.widget-view+json": {
       "model_id": "",
       "version_major": 2,
       "version_minor": 0
      },
      "text/plain": [
       "HBox(children=(IntProgress(value=0, max=20), HTML(value='')))"
      ]
     },
     "metadata": {},
     "output_type": "display_data"
    },
    {
     "name": "stdout",
     "output_type": "stream",
     "text": [
      "[7.25e-05 7.25e-04 7.25e-03 7.25e-02]\n"
     ]
    },
    {
     "data": {
      "application/vnd.jupyter.widget-view+json": {
       "model_id": "",
       "version_major": 2,
       "version_minor": 0
      },
      "text/plain": [
       "HBox(children=(IntProgress(value=0, max=20), HTML(value='')))"
      ]
     },
     "metadata": {},
     "output_type": "display_data"
    },
    {
     "name": "stdout",
     "output_type": "stream",
     "text": [
      "[5.65e-05 5.65e-04 5.65e-03 5.65e-02]\n"
     ]
    },
    {
     "data": {
      "application/vnd.jupyter.widget-view+json": {
       "model_id": "",
       "version_major": 2,
       "version_minor": 0
      },
      "text/plain": [
       "HBox(children=(IntProgress(value=0, max=20), HTML(value='')))"
      ]
     },
     "metadata": {},
     "output_type": "display_data"
    },
    {
     "name": "stdout",
     "output_type": "stream",
     "text": [
      "[3.25e-05 3.25e-04 3.25e-03 3.25e-02]\n"
     ]
    },
    {
     "data": {
      "application/vnd.jupyter.widget-view+json": {
       "model_id": "389c44ca552a47ed912ade113c9d86ec",
       "version_major": 2,
       "version_minor": 0
      },
      "text/plain": [
       "HBox(children=(IntProgress(value=0, max=4), HTML(value='')))"
      ]
     },
     "metadata": {},
     "output_type": "display_data"
    },
    {
     "data": {
      "application/vnd.jupyter.widget-view+json": {
       "model_id": "",
       "version_major": 2,
       "version_minor": 0
      },
      "text/plain": [
       "HBox(children=(IntProgress(value=0, max=20), HTML(value='')))"
      ]
     },
     "metadata": {},
     "output_type": "display_data"
    },
    {
     "name": "stdout",
     "output_type": "stream",
     "text": [
      "[0.0001185 0.001185  0.01185   0.1185   ]\n"
     ]
    },
    {
     "data": {
      "application/vnd.jupyter.widget-view+json": {
       "model_id": "",
       "version_major": 2,
       "version_minor": 0
      },
      "text/plain": [
       "HBox(children=(IntProgress(value=0, max=20), HTML(value='')))"
      ]
     },
     "metadata": {},
     "output_type": "display_data"
    },
    {
     "name": "stdout",
     "output_type": "stream",
     "text": [
      "[9.6e-05 9.6e-04 9.6e-03 9.6e-02]\n"
     ]
    },
    {
     "data": {
      "application/vnd.jupyter.widget-view+json": {
       "model_id": "",
       "version_major": 2,
       "version_minor": 0
      },
      "text/plain": [
       "HBox(children=(IntProgress(value=0, max=20), HTML(value='')))"
      ]
     },
     "metadata": {},
     "output_type": "display_data"
    },
    {
     "name": "stdout",
     "output_type": "stream",
     "text": [
      "[7.6e-05 7.6e-04 7.6e-03 7.6e-02]\n"
     ]
    },
    {
     "data": {
      "application/vnd.jupyter.widget-view+json": {
       "model_id": "",
       "version_major": 2,
       "version_minor": 0
      },
      "text/plain": [
       "HBox(children=(IntProgress(value=0, max=20), HTML(value='')))"
      ]
     },
     "metadata": {},
     "output_type": "display_data"
    },
    {
     "name": "stdout",
     "output_type": "stream",
     "text": [
      "[4.9e-05 4.9e-04 4.9e-03 4.9e-02]\n"
     ]
    },
    {
     "data": {
      "application/vnd.jupyter.widget-view+json": {
       "model_id": "dae5b8e851f341aa8bf20277c5aa528f",
       "version_major": 2,
       "version_minor": 0
      },
      "text/plain": [
       "HBox(children=(IntProgress(value=0, max=4), HTML(value='')))"
      ]
     },
     "metadata": {},
     "output_type": "display_data"
    },
    {
     "data": {
      "application/vnd.jupyter.widget-view+json": {
       "model_id": "",
       "version_major": 2,
       "version_minor": 0
      },
      "text/plain": [
       "HBox(children=(IntProgress(value=0, max=20), HTML(value='')))"
      ]
     },
     "metadata": {},
     "output_type": "display_data"
    },
    {
     "name": "stdout",
     "output_type": "stream",
     "text": [
      "[0.0001685 0.001685  0.01685   0.1685   ]\n"
     ]
    },
    {
     "data": {
      "application/vnd.jupyter.widget-view+json": {
       "model_id": "",
       "version_major": 2,
       "version_minor": 0
      },
      "text/plain": [
       "HBox(children=(IntProgress(value=0, max=20), HTML(value='')))"
      ]
     },
     "metadata": {},
     "output_type": "display_data"
    },
    {
     "name": "stdout",
     "output_type": "stream",
     "text": [
      "[0.0001195 0.001195  0.01195   0.1195   ]\n"
     ]
    },
    {
     "data": {
      "application/vnd.jupyter.widget-view+json": {
       "model_id": "",
       "version_major": 2,
       "version_minor": 0
      },
      "text/plain": [
       "HBox(children=(IntProgress(value=0, max=20), HTML(value='')))"
      ]
     },
     "metadata": {},
     "output_type": "display_data"
    },
    {
     "name": "stdout",
     "output_type": "stream",
     "text": [
      "[8.7e-05 8.7e-04 8.7e-03 8.7e-02]\n"
     ]
    },
    {
     "data": {
      "application/vnd.jupyter.widget-view+json": {
       "model_id": "",
       "version_major": 2,
       "version_minor": 0
      },
      "text/plain": [
       "HBox(children=(IntProgress(value=0, max=20), HTML(value='')))"
      ]
     },
     "metadata": {},
     "output_type": "display_data"
    },
    {
     "name": "stdout",
     "output_type": "stream",
     "text": [
      "[5.95e-05 5.95e-04 5.95e-03 5.95e-02]\n"
     ]
    },
    {
     "data": {
      "application/vnd.jupyter.widget-view+json": {
       "model_id": "37b1cefc7b244e6d80f5f5be4afad45a",
       "version_major": 2,
       "version_minor": 0
      },
      "text/plain": [
       "HBox(children=(IntProgress(value=0, max=4), HTML(value='')))"
      ]
     },
     "metadata": {},
     "output_type": "display_data"
    },
    {
     "data": {
      "application/vnd.jupyter.widget-view+json": {
       "model_id": "",
       "version_major": 2,
       "version_minor": 0
      },
      "text/plain": [
       "HBox(children=(IntProgress(value=0, max=20), HTML(value='')))"
      ]
     },
     "metadata": {},
     "output_type": "display_data"
    },
    {
     "name": "stdout",
     "output_type": "stream",
     "text": [
      "[0.0002185 0.002185  0.02185   0.2185   ]\n"
     ]
    },
    {
     "data": {
      "application/vnd.jupyter.widget-view+json": {
       "model_id": "",
       "version_major": 2,
       "version_minor": 0
      },
      "text/plain": [
       "HBox(children=(IntProgress(value=0, max=20), HTML(value='')))"
      ]
     },
     "metadata": {},
     "output_type": "display_data"
    },
    {
     "name": "stdout",
     "output_type": "stream",
     "text": [
      "[0.0001615 0.001615  0.01615   0.1615   ]\n"
     ]
    },
    {
     "data": {
      "application/vnd.jupyter.widget-view+json": {
       "model_id": "",
       "version_major": 2,
       "version_minor": 0
      },
      "text/plain": [
       "HBox(children=(IntProgress(value=0, max=20), HTML(value='')))"
      ]
     },
     "metadata": {},
     "output_type": "display_data"
    },
    {
     "name": "stdout",
     "output_type": "stream",
     "text": [
      "[0.0001235 0.001235  0.01235   0.1235   ]\n"
     ]
    },
    {
     "data": {
      "application/vnd.jupyter.widget-view+json": {
       "model_id": "",
       "version_major": 2,
       "version_minor": 0
      },
      "text/plain": [
       "HBox(children=(IntProgress(value=0, max=20), HTML(value='')))"
      ]
     },
     "metadata": {},
     "output_type": "display_data"
    },
    {
     "name": "stdout",
     "output_type": "stream",
     "text": [
      "[7.75e-05 7.75e-04 7.75e-03 7.75e-02]\n"
     ]
    },
    {
     "data": {
      "application/vnd.jupyter.widget-view+json": {
       "model_id": "722c59b8498848c7973e75c3e46e181d",
       "version_major": 2,
       "version_minor": 0
      },
      "text/plain": [
       "HBox(children=(IntProgress(value=0, max=4), HTML(value='')))"
      ]
     },
     "metadata": {},
     "output_type": "display_data"
    },
    {
     "data": {
      "application/vnd.jupyter.widget-view+json": {
       "model_id": "",
       "version_major": 2,
       "version_minor": 0
      },
      "text/plain": [
       "HBox(children=(IntProgress(value=0, max=20), HTML(value='')))"
      ]
     },
     "metadata": {},
     "output_type": "display_data"
    },
    {
     "name": "stdout",
     "output_type": "stream",
     "text": [
      "[0.0002985 0.002985  0.02985   0.2985   ]\n"
     ]
    },
    {
     "data": {
      "application/vnd.jupyter.widget-view+json": {
       "model_id": "",
       "version_major": 2,
       "version_minor": 0
      },
      "text/plain": [
       "HBox(children=(IntProgress(value=0, max=20), HTML(value='')))"
      ]
     },
     "metadata": {},
     "output_type": "display_data"
    },
    {
     "name": "stdout",
     "output_type": "stream",
     "text": [
      "[0.0002325 0.002325  0.02325   0.2325   ]\n"
     ]
    },
    {
     "data": {
      "application/vnd.jupyter.widget-view+json": {
       "model_id": "",
       "version_major": 2,
       "version_minor": 0
      },
      "text/plain": [
       "HBox(children=(IntProgress(value=0, max=20), HTML(value='')))"
      ]
     },
     "metadata": {},
     "output_type": "display_data"
    },
    {
     "name": "stdout",
     "output_type": "stream",
     "text": [
      "[0.0001905 0.001905  0.01905   0.1905   ]\n"
     ]
    },
    {
     "data": {
      "application/vnd.jupyter.widget-view+json": {
       "model_id": "",
       "version_major": 2,
       "version_minor": 0
      },
      "text/plain": [
       "HBox(children=(IntProgress(value=0, max=20), HTML(value='')))"
      ]
     },
     "metadata": {},
     "output_type": "display_data"
    },
    {
     "name": "stdout",
     "output_type": "stream",
     "text": [
      "[0.0001115 0.001115  0.01115   0.1115   ]\n"
     ]
    },
    {
     "data": {
      "application/vnd.jupyter.widget-view+json": {
       "model_id": "d2d8a8fcadd8497ebc80fa954e74a352",
       "version_major": 2,
       "version_minor": 0
      },
      "text/plain": [
       "HBox(children=(IntProgress(value=0, max=4), HTML(value='')))"
      ]
     },
     "metadata": {},
     "output_type": "display_data"
    },
    {
     "data": {
      "application/vnd.jupyter.widget-view+json": {
       "model_id": "",
       "version_major": 2,
       "version_minor": 0
      },
      "text/plain": [
       "HBox(children=(IntProgress(value=0, max=20), HTML(value='')))"
      ]
     },
     "metadata": {},
     "output_type": "display_data"
    },
    {
     "name": "stdout",
     "output_type": "stream",
     "text": [
      "[0.0004625 0.004625  0.04625   0.4625   ]\n"
     ]
    },
    {
     "data": {
      "application/vnd.jupyter.widget-view+json": {
       "model_id": "",
       "version_major": 2,
       "version_minor": 0
      },
      "text/plain": [
       "HBox(children=(IntProgress(value=0, max=20), HTML(value='')))"
      ]
     },
     "metadata": {},
     "output_type": "display_data"
    },
    {
     "name": "stdout",
     "output_type": "stream",
     "text": [
      "[0.000345 0.00345  0.0345   0.345   ]\n"
     ]
    },
    {
     "data": {
      "application/vnd.jupyter.widget-view+json": {
       "model_id": "",
       "version_major": 2,
       "version_minor": 0
      },
      "text/plain": [
       "HBox(children=(IntProgress(value=0, max=20), HTML(value='')))"
      ]
     },
     "metadata": {},
     "output_type": "display_data"
    },
    {
     "name": "stdout",
     "output_type": "stream",
     "text": [
      "[0.0002505 0.002505  0.02505   0.2505   ]\n"
     ]
    },
    {
     "data": {
      "application/vnd.jupyter.widget-view+json": {
       "model_id": "",
       "version_major": 2,
       "version_minor": 0
      },
      "text/plain": [
       "HBox(children=(IntProgress(value=0, max=20), HTML(value='')))"
      ]
     },
     "metadata": {},
     "output_type": "display_data"
    },
    {
     "name": "stdout",
     "output_type": "stream",
     "text": [
      "[0.0001665 0.001665  0.01665   0.1665   ]\n"
     ]
    },
    {
     "data": {
      "application/vnd.jupyter.widget-view+json": {
       "model_id": "6b3c05ff948d451684aefdf9d707a444",
       "version_major": 2,
       "version_minor": 0
      },
      "text/plain": [
       "HBox(children=(IntProgress(value=0, max=4), HTML(value='')))"
      ]
     },
     "metadata": {},
     "output_type": "display_data"
    },
    {
     "data": {
      "application/vnd.jupyter.widget-view+json": {
       "model_id": "",
       "version_major": 2,
       "version_minor": 0
      },
      "text/plain": [
       "HBox(children=(IntProgress(value=0, max=20), HTML(value='')))"
      ]
     },
     "metadata": {},
     "output_type": "display_data"
    },
    {
     "name": "stdout",
     "output_type": "stream",
     "text": [
      "[0.0008925 0.008925  0.08925   0.8925   ]\n"
     ]
    },
    {
     "data": {
      "application/vnd.jupyter.widget-view+json": {
       "model_id": "",
       "version_major": 2,
       "version_minor": 0
      },
      "text/plain": [
       "HBox(children=(IntProgress(value=0, max=20), HTML(value='')))"
      ]
     },
     "metadata": {},
     "output_type": "display_data"
    },
    {
     "name": "stdout",
     "output_type": "stream",
     "text": [
      "[0.000699 0.00699  0.0699   0.699   ]\n"
     ]
    },
    {
     "data": {
      "application/vnd.jupyter.widget-view+json": {
       "model_id": "",
       "version_major": 2,
       "version_minor": 0
      },
      "text/plain": [
       "HBox(children=(IntProgress(value=0, max=20), HTML(value='')))"
      ]
     },
     "metadata": {},
     "output_type": "display_data"
    },
    {
     "name": "stdout",
     "output_type": "stream",
     "text": [
      "[0.000462 0.00462  0.0462   0.462   ]\n"
     ]
    },
    {
     "data": {
      "application/vnd.jupyter.widget-view+json": {
       "model_id": "",
       "version_major": 2,
       "version_minor": 0
      },
      "text/plain": [
       "HBox(children=(IntProgress(value=0, max=20), HTML(value='')))"
      ]
     },
     "metadata": {},
     "output_type": "display_data"
    },
    {
     "name": "stdout",
     "output_type": "stream",
     "text": [
      "[0.0002765 0.002765  0.02765   0.2765   ]\n"
     ]
    },
    {
     "data": {
      "image/png": "[encoded data removed]",
      "text/plain": [
       "<Figure size 432x288 with 1 Axes>"
      ]
     },
     "metadata": {
      "needs_background": "light"
     },
     "output_type": "display_data"
    }
   ],
   "source": [
    "import numpy as np\n",
    "import matplotlib.pyplot as plt\n",
    "from tqdm.auto import trange\n",
    "%matplotlib inline\n",
    "\n",
    "\n",
    "def generate_network_a(N):\n",
    "    # Generate neighbours\n",
    "    network = np.zeros((N,N), dtype=np.int8)\n",
    "    for i in range (N):\n",
    "        if i < N-1:\n",
    "            network[i,i+1] = 1\n",
    "            network[i+1,i] = 1\n",
    "    network[0,N-1] = 1\n",
    "    network[N-1,0] = 1\n",
    "    return network\n",
    "\n",
    "\n",
    "def generate_network_b(N):\n",
    "    # Generate neighbours\n",
    "    network = np.zeros((N,N), dtype=np.int8)\n",
    "    for i in range (N):\n",
    "        if i < N-1:\n",
    "            network[i,i+1] = 1\n",
    "            network[i+1,i] = 1\n",
    "        if i < N-2:\n",
    "            network[i,i+2] = 1\n",
    "            network[i+2,i] = 1\n",
    "    network[0,N-1] = 1\n",
    "    network[N-1,0] = 1\n",
    "    network[0,N-2] = 1\n",
    "    network[1,N-1] = 1\n",
    "    network[N-2,0] = 1\n",
    "    network[N-1,1] = 1\n",
    "    return network\n",
    "\n",
    "\n",
    "def switch_bonds(network, node1, node2, r1=None, r2=None):\n",
    "    N = network.shape[0]\n",
    "    diags = [1, -1, N-1, -N+1]\n",
    "    old = network.copy()\n",
    "\n",
    "    # Get nearest neighbours of nodes\n",
    "    node1nearest = [(node1+1) % N, (node1-1) % N]\n",
    "    node2nearest = [(node2+1) % N, (node2-1) % N]\n",
    "\n",
    "    # Generate part of adjacency matrix, without nearest neighbours\n",
    "    non_neighbour = network - sum([np.eye(N, k=n, dtype=np.int8) for n in diags])\n",
    "    # print(f\"Non-nearest neighbours:\\n{non_neighbour}\")\n",
    "\n",
    "    i1 = node1\n",
    "    i2 = node2\n",
    "\n",
    "    # # choose which bonds to swap\n",
    "    r1 = np.random.randint(0, 2)\n",
    "    r2 = np.random.randint(0, 2)\n",
    "\n",
    "    # Grab row from adjacency and find bond indices\n",
    "    row1 = non_neighbour[i1]\n",
    "    bonds1 = np.where(row1)[0]\n",
    "    row2 = non_neighbour[i2]\n",
    "    bonds2 = np.where(row2)[0]\n",
    "\n",
    "    # print(f\"Row1 is row {node1}: {row1}. has bonds {bonds1}\")\n",
    "    # print(f\"Row2 is row {node2}: {row2}. has bonds {bonds2}\")\n",
    "\n",
    "    # choose random bond\n",
    "    j1 = bonds1[r1]\n",
    "    j2 = bonds2[r2]\n",
    "\n",
    "    if (j1 in node2nearest) or (j2 in node1nearest):\n",
    "        # j1 is a nearest neighbour of node2, or j2 is a nearest neighbour of\n",
    "        # j1. ABORT\n",
    "        return network\n",
    "\n",
    "\n",
    "    # print(network.sum())\n",
    "    # delete current bonds\n",
    "    i_to_delete = [i1, j1, i2, j2]\n",
    "    j_to_delete = [j1, i1, j2, i2]\n",
    "    network[i_to_delete, j_to_delete] = 0\n",
    "    sum_delete = network.sum()\n",
    "\n",
    "    # Create new bonds\n",
    "    i_to_create = [i1, j1, i2, j2]\n",
    "    j_to_create = [j2, i2, j1, i1]\n",
    "    # print(i_to_create, j_to_create)\n",
    "    network[i_to_create, j_to_create] = 1\n",
    "    sum_create = network.sum()\n",
    "    # print(network.sum())\n",
    "\n",
    "    if sum_delete + 4 != sum_create:\n",
    "        # We don goofed!\n",
    "        # print(\"Bonds were lost!\")\n",
    "        # print(f\"i1={i1}, j1={j1}, i2={i2}, j2={j2}\")\n",
    "        # print(f\"Original bonds1: {bonds1} and {node1nearest}\")\n",
    "        # print(f\"original bonds2: {bonds2} and {node2nearest}\")\n",
    "        # print(f\"Tried to delete: {list(zip(i_to_delete, j_to_delete))}\")\n",
    "        # print(f\"Tried to create: {list(zip(i_to_create, j_to_create))}\")\n",
    "        return old\n",
    "\n",
    "    return network\n",
    "\n",
    "\n",
    "def find_neighbours(network, i):\n",
    "    return np.where(network[i])[0].tolist()\n",
    "\n",
    "\n",
    "def breadth_first_search(occupied, network, start_i):\n",
    "    \"\"\"\n",
    "    Perform Breadth first search on board to find clusters\n",
    "    \"\"\"\n",
    "\n",
    "    # Create list of cells in current cluster\n",
    "    cluster = [start_i]\n",
    "\n",
    "    # Running list of neighbours to check (the queue)\n",
    "    queue = find_neighbours(network, start_i)\n",
    "\n",
    "    while queue:\n",
    "        # Take first cell in neighbours\n",
    "        i = queue.pop(0)\n",
    "\n",
    "        # Find its neighbours\n",
    "        neighbours = find_neighbours(network, i)\n",
    "\n",
    "        # Add cell to cluster, if it is occupied, and not already in it.\n",
    "        # Also add neighbours to queue\n",
    "        if occupied[i] and (i not in cluster):\n",
    "            cluster.append(i)\n",
    "            queue.extend(neighbours)\n",
    "\n",
    "    return cluster\n",
    "\n",
    "\n",
    "def find_largest_cluster(occupied, network):\n",
    "    occupied_indices = np.where(occupied)[0]\n",
    "    found = []\n",
    "    sizes = []\n",
    "    for i in occupied_indices:\n",
    "        # If i is already part of a previous cluster, we skip it\n",
    "        if i in found:\n",
    "            continue\n",
    "\n",
    "        # If not, find largest cluster, add to found nodes, and record size\n",
    "        cluster = breadth_first_search(occupied, network, i)\n",
    "        found.extend(cluster)\n",
    "        sizes.append(len(cluster))\n",
    "    return max(sizes)\n",
    "\n",
    "\n",
    "def percolation1():\n",
    "    network_size = [10**i for i in [5, 4, 3, 2]]\n",
    "    prop = np.linspace(0.1,0.9,num=9)\n",
    "    number_trials = 20\n",
    "\n",
    "    \n",
    "    # probs = np.linspace(0.1, 0.9, number_probabilities)\n",
    "\n",
    "    fig, ax = plt.subplots()\n",
    "    plt.title('Nearest nearbor sytem')\n",
    "    plt.xlabel('1/N')\n",
    "    plt.ylabel('S/N')\n",
    "    for k in trange(len(prop)):\n",
    "\n",
    "        \n",
    "        p = prop[k]\n",
    "        for m in trange(len(network_size)):\n",
    "            size = network_size[m]\n",
    "            network = generate_network_a(size)\n",
    "            sizes = []\n",
    "            average_largest = []\n",
    "            average_std = []\n",
    "            for n in trange(number_trials, leave=False):\n",
    "                occupied = np.random.uniform(size=size)\n",
    "                mask = occupied < p\n",
    "                occupied[mask] = 1\n",
    "                occupied[~mask] = 0\n",
    "                largest = find_largest_cluster(occupied, network)\n",
    "                sizes.append(largest)\n",
    "\n",
    "            average_largest.append(np.mean(sizes))\n",
    "            average_std.append(np.std(sizes))\n",
    "\n",
    "            average_largest = np.array(average_largest)/np.array(network_size)\n",
    "            average_std = np.array(average_std)/np.array(network_size)\n",
    "            x = []\n",
    "            print(average_largest)\n",
    "            for i in range(len(network_size)):\n",
    "                x.append(1/network_size[i])\n",
    "            \n",
    "            ax.errorbar(x, average_largest, average_std,label=p)\n",
    "            ax.set_xscale('log')\n",
    "            \n",
    "    ax.legend(bbox_to_anchor=(1.5,1))\n",
    "    return plt.show()\n",
    "\n",
    "\n",
    "if __name__ == \"__main__\":\n",
    "    # net = generate_network_b(100)\n",
    "    # print(net.sum())\n",
    "    # N = 100\n",
    "    # for n in range(1000):\n",
    "    #     node1, node2 = np.random.choice(N, size=2, replace=False)\n",
    "    #     net = switch_bonds(net, node1, node2)\n",
    "    #     print(net.sum())\n",
    "\n",
    "    # rows_that_sum_to_4 = net.sum(axis=0) == 4\n",
    "    # print(f\"we should have {N} rows. We have: {rows_that_sum_to_4.sum()}\")\n",
    "\n",
    "    # diags = [1, -1, N-1, -N+1]\n",
    "    # non_neighbour = net - sum([np.eye(N, k=n, dtype=int) for n in diags])\n",
    "    # rows_that_sum_to_2 = non_neighbour.sum(axis=0) == 2\n",
    "    # print(f\"we should have {N} rows. We have: {rows_that_sum_to_2.sum()}\")\n",
    "    # N = 10\n",
    "    # net = generate_network_a(N)\n",
    "    # occupied = np.ones(N)\n",
    "    # clust = breadth_first_search(occupied, net, 1)\n",
    "    # print(net)\n",
    "    # print(clust)\n",
    "    # print(len(clust))\n",
    "    percolation1()"
   ]
  },
  {
   "cell_type": "code",
   "execution_count": 17,
   "metadata": {},
   "outputs": [
    {
     "name": "stdout",
     "output_type": "stream",
     "text": [
      "svmem(total=34317856768, available=18818588672, percent=45.2, used=15499268096, free=18818588672)\n"
     ]
    }
   ],
   "source": [
    "from psutil import virtual_memory\n",
    "mem = virtual_memory()\n",
    "print(mem)"
   ]
  },
  {
   "cell_type": "code",
   "execution_count": 8,
   "metadata": {},
   "outputs": [
    {
     "name": "stdout",
     "output_type": "stream",
     "text": [
      "[[0 1 1 ... 0 1 1]\n",
      " [1 0 1 ... 0 0 1]\n",
      " [1 1 0 ... 0 0 0]\n",
      " ...\n",
      " [0 0 0 ... 0 1 1]\n",
      " [1 0 0 ... 1 0 1]\n",
      " [1 1 0 ... 1 1 0]]\n"
     ]
    }
   ],
   "source": [
    "N = 100000\n",
    "matrix = np.zeros((N,N), dtype=np.int8)\n",
    "for i in range (N):\n",
    "    if i < N-1:\n",
    "        matrix[i,i+1] = 1\n",
    "        matrix[i+1,i] = 1\n",
    "    if i < N-2:\n",
    "        matrix[i,i+2] = 1\n",
    "        matrix[i+2,i] = 1\n",
    "matrix[0,N-1] = 1\n",
    "matrix[N-1,0] = 1\n",
    "matrix[0,N-2] = 1\n",
    "matrix[1,N-1] = 1\n",
    "matrix[N-2,0] = 1\n",
    "matrix[N-1,1] = 1\n",
    "print(matrix)"
   ]
  },
  {
   "cell_type": "code",
   "execution_count": 16,
   "metadata": {},
   "outputs": [
    {
     "data": {
      "application/vnd.jupyter.widget-view+json": {
       "model_id": "311c50df62504abc99a38d816c5dff84",
       "version_major": 2,
       "version_minor": 0
      },
      "text/plain": [
       "HBox(children=(IntProgress(value=0, max=9), HTML(value='')))"
      ]
     },
     "metadata": {},
     "output_type": "display_data"
    },
    {
     "data": {
      "application/vnd.jupyter.widget-view+json": {
       "model_id": "af8c2b921ca5426196cb105644f99536",
       "version_major": 2,
       "version_minor": 0
      },
      "text/plain": [
       "HBox(children=(IntProgress(value=0, max=4), HTML(value='')))"
      ]
     },
     "metadata": {},
     "output_type": "display_data"
    },
    {
     "data": {
      "application/vnd.jupyter.widget-view+json": {
       "model_id": "",
       "version_major": 2,
       "version_minor": 0
      },
      "text/plain": [
       "HBox(children=(IntProgress(value=0, max=4), HTML(value='')))"
      ]
     },
     "metadata": {},
     "output_type": "display_data"
    },
    {
     "name": "stdout",
     "output_type": "stream",
     "text": [
      "[6.75e-05 6.75e-04 6.75e-03 6.75e-02]\n"
     ]
    },
    {
     "data": {
      "application/vnd.jupyter.widget-view+json": {
       "model_id": "",
       "version_major": 2,
       "version_minor": 0
      },
      "text/plain": [
       "HBox(children=(IntProgress(value=0, max=4), HTML(value='')))"
      ]
     },
     "metadata": {},
     "output_type": "display_data"
    },
    {
     "name": "stdout",
     "output_type": "stream",
     "text": [
      "[5.e-05 5.e-04 5.e-03 5.e-02]\n"
     ]
    },
    {
     "data": {
      "application/vnd.jupyter.widget-view+json": {
       "model_id": "",
       "version_major": 2,
       "version_minor": 0
      },
      "text/plain": [
       "HBox(children=(IntProgress(value=0, max=4), HTML(value='')))"
      ]
     },
     "metadata": {},
     "output_type": "display_data"
    },
    {
     "name": "stdout",
     "output_type": "stream",
     "text": [
      "[3.75e-05 3.75e-04 3.75e-03 3.75e-02]\n"
     ]
    },
    {
     "data": {
      "application/vnd.jupyter.widget-view+json": {
       "model_id": "",
       "version_major": 2,
       "version_minor": 0
      },
      "text/plain": [
       "HBox(children=(IntProgress(value=0, max=4), HTML(value='')))"
      ]
     },
     "metadata": {},
     "output_type": "display_data"
    },
    {
     "name": "stdout",
     "output_type": "stream",
     "text": [
      "[2.e-05 2.e-04 2.e-03 2.e-02]\n"
     ]
    },
    {
     "data": {
      "application/vnd.jupyter.widget-view+json": {
       "model_id": "8fb288dce8394f80a30d32a6852221f2",
       "version_major": 2,
       "version_minor": 0
      },
      "text/plain": [
       "HBox(children=(IntProgress(value=0, max=4), HTML(value='')))"
      ]
     },
     "metadata": {},
     "output_type": "display_data"
    },
    {
     "data": {
      "application/vnd.jupyter.widget-view+json": {
       "model_id": "",
       "version_major": 2,
       "version_minor": 0
      },
      "text/plain": [
       "HBox(children=(IntProgress(value=0, max=4), HTML(value='')))"
      ]
     },
     "metadata": {},
     "output_type": "display_data"
    },
    {
     "name": "stdout",
     "output_type": "stream",
     "text": [
      "[0.0001075 0.001075  0.01075   0.1075   ]\n"
     ]
    },
    {
     "data": {
      "application/vnd.jupyter.widget-view+json": {
       "model_id": "",
       "version_major": 2,
       "version_minor": 0
      },
      "text/plain": [
       "HBox(children=(IntProgress(value=0, max=4), HTML(value='')))"
      ]
     },
     "metadata": {},
     "output_type": "display_data"
    },
    {
     "name": "stdout",
     "output_type": "stream",
     "text": [
      "[9.5e-05 9.5e-04 9.5e-03 9.5e-02]\n"
     ]
    },
    {
     "data": {
      "application/vnd.jupyter.widget-view+json": {
       "model_id": "",
       "version_major": 2,
       "version_minor": 0
      },
      "text/plain": [
       "HBox(children=(IntProgress(value=0, max=4), HTML(value='')))"
      ]
     },
     "metadata": {},
     "output_type": "display_data"
    },
    {
     "name": "stdout",
     "output_type": "stream",
     "text": [
      "[6.25e-05 6.25e-04 6.25e-03 6.25e-02]\n"
     ]
    },
    {
     "data": {
      "application/vnd.jupyter.widget-view+json": {
       "model_id": "",
       "version_major": 2,
       "version_minor": 0
      },
      "text/plain": [
       "HBox(children=(IntProgress(value=0, max=4), HTML(value='')))"
      ]
     },
     "metadata": {},
     "output_type": "display_data"
    },
    {
     "name": "stdout",
     "output_type": "stream",
     "text": [
      "[4.e-05 4.e-04 4.e-03 4.e-02]\n"
     ]
    },
    {
     "data": {
      "application/vnd.jupyter.widget-view+json": {
       "model_id": "1eb1a9443dc5435ebe080c7412cbb5f9",
       "version_major": 2,
       "version_minor": 0
      },
      "text/plain": [
       "HBox(children=(IntProgress(value=0, max=4), HTML(value='')))"
      ]
     },
     "metadata": {},
     "output_type": "display_data"
    },
    {
     "data": {
      "application/vnd.jupyter.widget-view+json": {
       "model_id": "",
       "version_major": 2,
       "version_minor": 0
      },
      "text/plain": [
       "HBox(children=(IntProgress(value=0, max=4), HTML(value='')))"
      ]
     },
     "metadata": {},
     "output_type": "display_data"
    },
    {
     "name": "stdout",
     "output_type": "stream",
     "text": [
      "[0.00016 0.0016  0.016   0.16   ]\n"
     ]
    },
    {
     "data": {
      "application/vnd.jupyter.widget-view+json": {
       "model_id": "",
       "version_major": 2,
       "version_minor": 0
      },
      "text/plain": [
       "HBox(children=(IntProgress(value=0, max=4), HTML(value='')))"
      ]
     },
     "metadata": {},
     "output_type": "display_data"
    },
    {
     "name": "stdout",
     "output_type": "stream",
     "text": [
      "[0.0001125 0.001125  0.01125   0.1125   ]\n"
     ]
    },
    {
     "data": {
      "application/vnd.jupyter.widget-view+json": {
       "model_id": "",
       "version_major": 2,
       "version_minor": 0
      },
      "text/plain": [
       "HBox(children=(IntProgress(value=0, max=4), HTML(value='')))"
      ]
     },
     "metadata": {},
     "output_type": "display_data"
    },
    {
     "name": "stdout",
     "output_type": "stream",
     "text": [
      "[8.5e-05 8.5e-04 8.5e-03 8.5e-02]\n"
     ]
    },
    {
     "data": {
      "application/vnd.jupyter.widget-view+json": {
       "model_id": "",
       "version_major": 2,
       "version_minor": 0
      },
      "text/plain": [
       "HBox(children=(IntProgress(value=0, max=4), HTML(value='')))"
      ]
     },
     "metadata": {},
     "output_type": "display_data"
    },
    {
     "name": "stdout",
     "output_type": "stream",
     "text": [
      "[5.e-05 5.e-04 5.e-03 5.e-02]\n"
     ]
    },
    {
     "data": {
      "application/vnd.jupyter.widget-view+json": {
       "model_id": "3c99e50881c2474fadae48709e48f170",
       "version_major": 2,
       "version_minor": 0
      },
      "text/plain": [
       "HBox(children=(IntProgress(value=0, max=4), HTML(value='')))"
      ]
     },
     "metadata": {},
     "output_type": "display_data"
    },
    {
     "data": {
      "application/vnd.jupyter.widget-view+json": {
       "model_id": "",
       "version_major": 2,
       "version_minor": 0
      },
      "text/plain": [
       "HBox(children=(IntProgress(value=0, max=4), HTML(value='')))"
      ]
     },
     "metadata": {},
     "output_type": "display_data"
    },
    {
     "name": "stdout",
     "output_type": "stream",
     "text": [
      "[0.00024 0.0024  0.024   0.24   ]\n"
     ]
    },
    {
     "data": {
      "application/vnd.jupyter.widget-view+json": {
       "model_id": "",
       "version_major": 2,
       "version_minor": 0
      },
      "text/plain": [
       "HBox(children=(IntProgress(value=0, max=4), HTML(value='')))"
      ]
     },
     "metadata": {},
     "output_type": "display_data"
    },
    {
     "name": "stdout",
     "output_type": "stream",
     "text": [
      "[0.000195 0.00195  0.0195   0.195   ]\n"
     ]
    },
    {
     "data": {
      "application/vnd.jupyter.widget-view+json": {
       "model_id": "",
       "version_major": 2,
       "version_minor": 0
      },
      "text/plain": [
       "HBox(children=(IntProgress(value=0, max=4), HTML(value='')))"
      ]
     },
     "metadata": {},
     "output_type": "display_data"
    },
    {
     "name": "stdout",
     "output_type": "stream",
     "text": [
      "[0.0001225 0.001225  0.01225   0.1225   ]\n"
     ]
    },
    {
     "data": {
      "application/vnd.jupyter.widget-view+json": {
       "model_id": "",
       "version_major": 2,
       "version_minor": 0
      },
      "text/plain": [
       "HBox(children=(IntProgress(value=0, max=4), HTML(value='')))"
      ]
     },
     "metadata": {},
     "output_type": "display_data"
    },
    {
     "name": "stdout",
     "output_type": "stream",
     "text": [
      "[7.5e-05 7.5e-04 7.5e-03 7.5e-02]\n"
     ]
    },
    {
     "data": {
      "application/vnd.jupyter.widget-view+json": {
       "model_id": "a890c7dcd2654218a888aed7cd6782db",
       "version_major": 2,
       "version_minor": 0
      },
      "text/plain": [
       "HBox(children=(IntProgress(value=0, max=4), HTML(value='')))"
      ]
     },
     "metadata": {},
     "output_type": "display_data"
    },
    {
     "data": {
      "application/vnd.jupyter.widget-view+json": {
       "model_id": "",
       "version_major": 2,
       "version_minor": 0
      },
      "text/plain": [
       "HBox(children=(IntProgress(value=0, max=4), HTML(value='')))"
      ]
     },
     "metadata": {},
     "output_type": "display_data"
    },
    {
     "name": "stdout",
     "output_type": "stream",
     "text": [
      "[0.0003725 0.003725  0.03725   0.3725   ]\n"
     ]
    },
    {
     "data": {
      "application/vnd.jupyter.widget-view+json": {
       "model_id": "",
       "version_major": 2,
       "version_minor": 0
      },
      "text/plain": [
       "HBox(children=(IntProgress(value=0, max=4), HTML(value='')))"
      ]
     },
     "metadata": {},
     "output_type": "display_data"
    },
    {
     "name": "stdout",
     "output_type": "stream",
     "text": [
      "[0.00024 0.0024  0.024   0.24   ]\n"
     ]
    },
    {
     "data": {
      "application/vnd.jupyter.widget-view+json": {
       "model_id": "",
       "version_major": 2,
       "version_minor": 0
      },
      "text/plain": [
       "HBox(children=(IntProgress(value=0, max=4), HTML(value='')))"
      ]
     },
     "metadata": {},
     "output_type": "display_data"
    },
    {
     "name": "stdout",
     "output_type": "stream",
     "text": [
      "[1.625e-04 1.625e-03 1.625e-02 1.625e-01]\n"
     ]
    },
    {
     "data": {
      "application/vnd.jupyter.widget-view+json": {
       "model_id": "",
       "version_major": 2,
       "version_minor": 0
      },
      "text/plain": [
       "HBox(children=(IntProgress(value=0, max=4), HTML(value='')))"
      ]
     },
     "metadata": {},
     "output_type": "display_data"
    },
    {
     "name": "stdout",
     "output_type": "stream",
     "text": [
      "[0.000105 0.00105  0.0105   0.105   ]\n"
     ]
    },
    {
     "data": {
      "application/vnd.jupyter.widget-view+json": {
       "model_id": "4fe9261888304dd19a3836fe67b41a55",
       "version_major": 2,
       "version_minor": 0
      },
      "text/plain": [
       "HBox(children=(IntProgress(value=0, max=4), HTML(value='')))"
      ]
     },
     "metadata": {},
     "output_type": "display_data"
    },
    {
     "data": {
      "application/vnd.jupyter.widget-view+json": {
       "model_id": "",
       "version_major": 2,
       "version_minor": 0
      },
      "text/plain": [
       "HBox(children=(IntProgress(value=0, max=4), HTML(value='')))"
      ]
     },
     "metadata": {},
     "output_type": "display_data"
    },
    {
     "name": "stdout",
     "output_type": "stream",
     "text": [
      "[0.0005275 0.005275  0.05275   0.5275   ]\n"
     ]
    },
    {
     "data": {
      "application/vnd.jupyter.widget-view+json": {
       "model_id": "",
       "version_major": 2,
       "version_minor": 0
      },
      "text/plain": [
       "HBox(children=(IntProgress(value=0, max=4), HTML(value='')))"
      ]
     },
     "metadata": {},
     "output_type": "display_data"
    },
    {
     "name": "stdout",
     "output_type": "stream",
     "text": [
      "[0.0003775 0.003775  0.03775   0.3775   ]\n"
     ]
    },
    {
     "data": {
      "application/vnd.jupyter.widget-view+json": {
       "model_id": "",
       "version_major": 2,
       "version_minor": 0
      },
      "text/plain": [
       "HBox(children=(IntProgress(value=0, max=4), HTML(value='')))"
      ]
     },
     "metadata": {},
     "output_type": "display_data"
    },
    {
     "name": "stdout",
     "output_type": "stream",
     "text": [
      "[0.0003 0.003  0.03   0.3   ]\n"
     ]
    },
    {
     "data": {
      "application/vnd.jupyter.widget-view+json": {
       "model_id": "",
       "version_major": 2,
       "version_minor": 0
      },
      "text/plain": [
       "HBox(children=(IntProgress(value=0, max=4), HTML(value='')))"
      ]
     },
     "metadata": {},
     "output_type": "display_data"
    },
    {
     "name": "stdout",
     "output_type": "stream",
     "text": [
      "[2.025e-04 2.025e-03 2.025e-02 2.025e-01]\n"
     ]
    },
    {
     "data": {
      "application/vnd.jupyter.widget-view+json": {
       "model_id": "a06d0672885e4bb28e796ce542546ffc",
       "version_major": 2,
       "version_minor": 0
      },
      "text/plain": [
       "HBox(children=(IntProgress(value=0, max=4), HTML(value='')))"
      ]
     },
     "metadata": {},
     "output_type": "display_data"
    },
    {
     "data": {
      "application/vnd.jupyter.widget-view+json": {
       "model_id": "",
       "version_major": 2,
       "version_minor": 0
      },
      "text/plain": [
       "HBox(children=(IntProgress(value=0, max=4), HTML(value='')))"
      ]
     },
     "metadata": {},
     "output_type": "display_data"
    },
    {
     "name": "stdout",
     "output_type": "stream",
     "text": [
      "[0.0010525 0.010525  0.10525   1.0525   ]\n"
     ]
    },
    {
     "data": {
      "application/vnd.jupyter.widget-view+json": {
       "model_id": "",
       "version_major": 2,
       "version_minor": 0
      },
      "text/plain": [
       "HBox(children=(IntProgress(value=0, max=4), HTML(value='')))"
      ]
     },
     "metadata": {},
     "output_type": "display_data"
    },
    {
     "name": "stdout",
     "output_type": "stream",
     "text": [
      "[0.0007 0.007  0.07   0.7   ]\n"
     ]
    },
    {
     "data": {
      "application/vnd.jupyter.widget-view+json": {
       "model_id": "",
       "version_major": 2,
       "version_minor": 0
      },
      "text/plain": [
       "HBox(children=(IntProgress(value=0, max=4), HTML(value='')))"
      ]
     },
     "metadata": {},
     "output_type": "display_data"
    },
    {
     "name": "stdout",
     "output_type": "stream",
     "text": [
      "[0.00055 0.0055  0.055   0.55   ]\n"
     ]
    },
    {
     "data": {
      "application/vnd.jupyter.widget-view+json": {
       "model_id": "",
       "version_major": 2,
       "version_minor": 0
      },
      "text/plain": [
       "HBox(children=(IntProgress(value=0, max=4), HTML(value='')))"
      ]
     },
     "metadata": {},
     "output_type": "display_data"
    },
    {
     "name": "stdout",
     "output_type": "stream",
     "text": [
      "[3.425e-04 3.425e-03 3.425e-02 3.425e-01]\n"
     ]
    },
    {
     "data": {
      "application/vnd.jupyter.widget-view+json": {
       "model_id": "0e5116902b964fc199b2b343c6d61c11",
       "version_major": 2,
       "version_minor": 0
      },
      "text/plain": [
       "HBox(children=(IntProgress(value=0, max=4), HTML(value='')))"
      ]
     },
     "metadata": {},
     "output_type": "display_data"
    },
    {
     "data": {
      "application/vnd.jupyter.widget-view+json": {
       "model_id": "",
       "version_major": 2,
       "version_minor": 0
      },
      "text/plain": [
       "HBox(children=(IntProgress(value=0, max=4), HTML(value='')))"
      ]
     },
     "metadata": {},
     "output_type": "display_data"
    },
    {
     "name": "stdout",
     "output_type": "stream",
     "text": [
      "[2.0525e-03 2.0525e-02 2.0525e-01 2.0525e+00]\n"
     ]
    },
    {
     "data": {
      "application/vnd.jupyter.widget-view+json": {
       "model_id": "",
       "version_major": 2,
       "version_minor": 0
      },
      "text/plain": [
       "HBox(children=(IntProgress(value=0, max=4), HTML(value='')))"
      ]
     },
     "metadata": {},
     "output_type": "display_data"
    },
    {
     "name": "stdout",
     "output_type": "stream",
     "text": [
      "[0.00144 0.0144  0.144   1.44   ]\n"
     ]
    },
    {
     "data": {
      "application/vnd.jupyter.widget-view+json": {
       "model_id": "",
       "version_major": 2,
       "version_minor": 0
      },
      "text/plain": [
       "HBox(children=(IntProgress(value=0, max=4), HTML(value='')))"
      ]
     },
     "metadata": {},
     "output_type": "display_data"
    },
    {
     "name": "stdout",
     "output_type": "stream",
     "text": [
      "[0.0012125 0.012125  0.12125   1.2125   ]\n"
     ]
    },
    {
     "data": {
      "application/vnd.jupyter.widget-view+json": {
       "model_id": "",
       "version_major": 2,
       "version_minor": 0
      },
      "text/plain": [
       "HBox(children=(IntProgress(value=0, max=4), HTML(value='')))"
      ]
     },
     "metadata": {},
     "output_type": "display_data"
    },
    {
     "name": "stdout",
     "output_type": "stream",
     "text": [
      "[0.00041 0.0041  0.041   0.41   ]\n"
     ]
    },
    {
     "data": {
      "application/vnd.jupyter.widget-view+json": {
       "model_id": "3b169ff6a10448a686b06ff7e69bd6c8",
       "version_major": 2,
       "version_minor": 0
      },
      "text/plain": [
       "HBox(children=(IntProgress(value=0, max=4), HTML(value='')))"
      ]
     },
     "metadata": {},
     "output_type": "display_data"
    },
    {
     "data": {
      "application/vnd.jupyter.widget-view+json": {
       "model_id": "30d206feac444d7e82aef369413ea00a",
       "version_major": 2,
       "version_minor": 0
      },
      "text/plain": [
       "HBox(children=(IntProgress(value=0, max=4), HTML(value='')))"
      ]
     },
     "metadata": {},
     "output_type": "display_data"
    },
    {
     "ename": "KeyboardInterrupt",
     "evalue": "",
     "output_type": "error",
     "traceback": [
      "\u001b[1;31m---------------------------------------------------------------------------\u001b[0m",
      "\u001b[1;31mKeyboardInterrupt\u001b[0m                         Traceback (most recent call last)",
      "\u001b[1;32m<ipython-input-16-9e39080b19df>\u001b[0m in \u001b[0;36m<module>\u001b[1;34m\u001b[0m\n\u001b[0;32m    220\u001b[0m     \u001b[1;31m# print(clust)\u001b[0m\u001b[1;33m\u001b[0m\u001b[1;33m\u001b[0m\u001b[1;33m\u001b[0m\u001b[0m\n\u001b[0;32m    221\u001b[0m     \u001b[1;31m# print(len(clust))\u001b[0m\u001b[1;33m\u001b[0m\u001b[1;33m\u001b[0m\u001b[1;33m\u001b[0m\u001b[0m\n\u001b[1;32m--> 222\u001b[1;33m     \u001b[0mpercolation1\u001b[0m\u001b[1;33m(\u001b[0m\u001b[1;33m)\u001b[0m\u001b[1;33m\u001b[0m\u001b[1;33m\u001b[0m\u001b[0m\n\u001b[0m",
      "\u001b[1;32m<ipython-input-16-9e39080b19df>\u001b[0m in \u001b[0;36mpercolation1\u001b[1;34m()\u001b[0m\n\u001b[0;32m    177\u001b[0m                 \u001b[0moccupied\u001b[0m\u001b[1;33m[\u001b[0m\u001b[0mmask\u001b[0m\u001b[1;33m]\u001b[0m \u001b[1;33m=\u001b[0m \u001b[1;36m1\u001b[0m\u001b[1;33m\u001b[0m\u001b[1;33m\u001b[0m\u001b[0m\n\u001b[0;32m    178\u001b[0m                 \u001b[0moccupied\u001b[0m\u001b[1;33m[\u001b[0m\u001b[1;33m~\u001b[0m\u001b[0mmask\u001b[0m\u001b[1;33m]\u001b[0m \u001b[1;33m=\u001b[0m \u001b[1;36m0\u001b[0m\u001b[1;33m\u001b[0m\u001b[1;33m\u001b[0m\u001b[0m\n\u001b[1;32m--> 179\u001b[1;33m                 \u001b[0mlargest\u001b[0m \u001b[1;33m=\u001b[0m \u001b[0mfind_largest_cluster\u001b[0m\u001b[1;33m(\u001b[0m\u001b[0moccupied\u001b[0m\u001b[1;33m,\u001b[0m \u001b[0mnetwork\u001b[0m\u001b[1;33m)\u001b[0m\u001b[1;33m\u001b[0m\u001b[1;33m\u001b[0m\u001b[0m\n\u001b[0m\u001b[0;32m    180\u001b[0m                 \u001b[0msizes\u001b[0m\u001b[1;33m.\u001b[0m\u001b[0mappend\u001b[0m\u001b[1;33m(\u001b[0m\u001b[0mlargest\u001b[0m\u001b[1;33m)\u001b[0m\u001b[1;33m\u001b[0m\u001b[1;33m\u001b[0m\u001b[0m\n\u001b[0;32m    181\u001b[0m \u001b[1;33m\u001b[0m\u001b[0m\n",
      "\u001b[1;32m<ipython-input-16-9e39080b19df>\u001b[0m in \u001b[0;36mfind_largest_cluster\u001b[1;34m(occupied, network)\u001b[0m\n\u001b[0;32m    144\u001b[0m \u001b[1;33m\u001b[0m\u001b[0m\n\u001b[0;32m    145\u001b[0m         \u001b[1;31m# If not, find largest cluster, add to found nodes, and record size\u001b[0m\u001b[1;33m\u001b[0m\u001b[1;33m\u001b[0m\u001b[1;33m\u001b[0m\u001b[0m\n\u001b[1;32m--> 146\u001b[1;33m         \u001b[0mcluster\u001b[0m \u001b[1;33m=\u001b[0m \u001b[0mbreadth_first_search\u001b[0m\u001b[1;33m(\u001b[0m\u001b[0moccupied\u001b[0m\u001b[1;33m,\u001b[0m \u001b[0mnetwork\u001b[0m\u001b[1;33m,\u001b[0m \u001b[0mi\u001b[0m\u001b[1;33m)\u001b[0m\u001b[1;33m\u001b[0m\u001b[1;33m\u001b[0m\u001b[0m\n\u001b[0m\u001b[0;32m    147\u001b[0m         \u001b[0mfound\u001b[0m\u001b[1;33m.\u001b[0m\u001b[0mextend\u001b[0m\u001b[1;33m(\u001b[0m\u001b[0mcluster\u001b[0m\u001b[1;33m)\u001b[0m\u001b[1;33m\u001b[0m\u001b[1;33m\u001b[0m\u001b[0m\n\u001b[0;32m    148\u001b[0m         \u001b[0msizes\u001b[0m\u001b[1;33m.\u001b[0m\u001b[0mappend\u001b[0m\u001b[1;33m(\u001b[0m\u001b[0mlen\u001b[0m\u001b[1;33m(\u001b[0m\u001b[0mcluster\u001b[0m\u001b[1;33m)\u001b[0m\u001b[1;33m)\u001b[0m\u001b[1;33m\u001b[0m\u001b[1;33m\u001b[0m\u001b[0m\n",
      "\u001b[1;32m<ipython-input-16-9e39080b19df>\u001b[0m in \u001b[0;36mbreadth_first_search\u001b[1;34m(occupied, network, start_i)\u001b[0m\n\u001b[0;32m    123\u001b[0m \u001b[1;33m\u001b[0m\u001b[0m\n\u001b[0;32m    124\u001b[0m         \u001b[1;31m# Find its neighbours\u001b[0m\u001b[1;33m\u001b[0m\u001b[1;33m\u001b[0m\u001b[1;33m\u001b[0m\u001b[0m\n\u001b[1;32m--> 125\u001b[1;33m         \u001b[0mneighbours\u001b[0m \u001b[1;33m=\u001b[0m \u001b[0mfind_neighbours\u001b[0m\u001b[1;33m(\u001b[0m\u001b[0mnetwork\u001b[0m\u001b[1;33m,\u001b[0m \u001b[0mi\u001b[0m\u001b[1;33m)\u001b[0m\u001b[1;33m\u001b[0m\u001b[1;33m\u001b[0m\u001b[0m\n\u001b[0m\u001b[0;32m    126\u001b[0m \u001b[1;33m\u001b[0m\u001b[0m\n\u001b[0;32m    127\u001b[0m         \u001b[1;31m# Add cell to cluster, if it is occupied, and not already in it.\u001b[0m\u001b[1;33m\u001b[0m\u001b[1;33m\u001b[0m\u001b[1;33m\u001b[0m\u001b[0m\n",
      "\u001b[1;32m<ipython-input-16-9e39080b19df>\u001b[0m in \u001b[0;36mfind_neighbours\u001b[1;34m(network, i)\u001b[0m\n\u001b[0;32m    104\u001b[0m \u001b[1;33m\u001b[0m\u001b[0m\n\u001b[0;32m    105\u001b[0m \u001b[1;32mdef\u001b[0m \u001b[0mfind_neighbours\u001b[0m\u001b[1;33m(\u001b[0m\u001b[0mnetwork\u001b[0m\u001b[1;33m,\u001b[0m \u001b[0mi\u001b[0m\u001b[1;33m)\u001b[0m\u001b[1;33m:\u001b[0m\u001b[1;33m\u001b[0m\u001b[1;33m\u001b[0m\u001b[0m\n\u001b[1;32m--> 106\u001b[1;33m     \u001b[1;32mreturn\u001b[0m \u001b[0mnp\u001b[0m\u001b[1;33m.\u001b[0m\u001b[0mwhere\u001b[0m\u001b[1;33m(\u001b[0m\u001b[0mnetwork\u001b[0m\u001b[1;33m[\u001b[0m\u001b[0mi\u001b[0m\u001b[1;33m]\u001b[0m\u001b[1;33m)\u001b[0m\u001b[1;33m[\u001b[0m\u001b[1;36m0\u001b[0m\u001b[1;33m]\u001b[0m\u001b[1;33m.\u001b[0m\u001b[0mtolist\u001b[0m\u001b[1;33m(\u001b[0m\u001b[1;33m)\u001b[0m\u001b[1;33m\u001b[0m\u001b[1;33m\u001b[0m\u001b[0m\n\u001b[0m\u001b[0;32m    107\u001b[0m \u001b[1;33m\u001b[0m\u001b[0m\n\u001b[0;32m    108\u001b[0m \u001b[1;33m\u001b[0m\u001b[0m\n",
      "\u001b[1;31mKeyboardInterrupt\u001b[0m: "
     ]
    },
    {
     "data": {
      "image/png": "[encoded data removed]",
      "text/plain": [
       "<Figure size 432x288 with 1 Axes>"
      ]
     },
     "metadata": {
      "needs_background": "light"
     },
     "output_type": "display_data"
    }
   ],
   "source": [
    "import numpy as np\n",
    "import matplotlib.pyplot as plt\n",
    "from tqdm.auto import trange\n",
    "%matplotlib inline\n",
    "\n",
    "\n",
    "def generate_network_a(N):\n",
    "    # Generate neighbours\n",
    "    network = np.zeros((N,N), dtype=np.int8)\n",
    "    for i in range (N):\n",
    "        if i < N-1:\n",
    "            network[i,i+1] = 1\n",
    "            network[i+1,i] = 1\n",
    "    network[0,N-1] = 1\n",
    "    network[N-1,0] = 1\n",
    "    return network\n",
    "\n",
    "\n",
    "def generate_network_b(N):\n",
    "    # Generate neighbours\n",
    "    network = np.zeros((N,N), dtype=np.int8)\n",
    "    for i in range (N):\n",
    "        if i < N-1:\n",
    "            network[i,i+1] = 1\n",
    "            network[i+1,i] = 1\n",
    "        if i < N-2:\n",
    "            network[i,i+2] = 1\n",
    "            network[i+2,i] = 1\n",
    "    network[0,N-1] = 1\n",
    "    network[N-1,0] = 1\n",
    "    network[0,N-2] = 1\n",
    "    network[1,N-1] = 1\n",
    "    network[N-2,0] = 1\n",
    "    network[N-1,1] = 1\n",
    "    return network\n",
    "\n",
    "\n",
    "def switch_bonds(network, node1, node2, r1=None, r2=None):\n",
    "    N = network.shape[0]\n",
    "    diags = [1, -1, N-1, -N+1]\n",
    "    old = network.copy()\n",
    "\n",
    "    # Get nearest neighbours of nodes\n",
    "    node1nearest = [(node1+1) % N, (node1-1) % N]\n",
    "    node2nearest = [(node2+1) % N, (node2-1) % N]\n",
    "\n",
    "    # Generate part of adjacency matrix, without nearest neighbours\n",
    "    non_neighbour = network - sum([np.eye(N, k=n, dtype=np.int8) for n in diags])\n",
    "    # print(f\"Non-nearest neighbours:\\n{non_neighbour}\")\n",
    "\n",
    "    i1 = node1\n",
    "    i2 = node2\n",
    "\n",
    "    # # choose which bonds to swap\n",
    "    r1 = np.random.randint(0, 2)\n",
    "    r2 = np.random.randint(0, 2)\n",
    "\n",
    "    # Grab row from adjacency and find bond indices\n",
    "    row1 = non_neighbour[i1]\n",
    "    bonds1 = np.where(row1)[0]\n",
    "    row2 = non_neighbour[i2]\n",
    "    bonds2 = np.where(row2)[0]\n",
    "\n",
    "    # print(f\"Row1 is row {node1}: {row1}. has bonds {bonds1}\")\n",
    "    # print(f\"Row2 is row {node2}: {row2}. has bonds {bonds2}\")\n",
    "\n",
    "    # choose random bond\n",
    "    j1 = bonds1[r1]\n",
    "    j2 = bonds2[r2]\n",
    "\n",
    "    if (j1 in node2nearest) or (j2 in node1nearest):\n",
    "        # j1 is a nearest neighbour of node2, or j2 is a nearest neighbour of\n",
    "        # j1. ABORT\n",
    "        return network\n",
    "\n",
    "\n",
    "    # print(network.sum())\n",
    "    # delete current bonds\n",
    "    i_to_delete = [i1, j1, i2, j2]\n",
    "    j_to_delete = [j1, i1, j2, i2]\n",
    "    network[i_to_delete, j_to_delete] = 0\n",
    "    sum_delete = network.sum()\n",
    "\n",
    "    # Create new bonds\n",
    "    i_to_create = [i1, j1, i2, j2]\n",
    "    j_to_create = [j2, i2, j1, i1]\n",
    "    # print(i_to_create, j_to_create)\n",
    "    network[i_to_create, j_to_create] = 1\n",
    "    sum_create = network.sum()\n",
    "    # print(network.sum())\n",
    "\n",
    "    if sum_delete + 4 != sum_create:\n",
    "        # We don goofed!\n",
    "        # print(\"Bonds were lost!\")\n",
    "        # print(f\"i1={i1}, j1={j1}, i2={i2}, j2={j2}\")\n",
    "        # print(f\"Original bonds1: {bonds1} and {node1nearest}\")\n",
    "        # print(f\"original bonds2: {bonds2} and {node2nearest}\")\n",
    "        # print(f\"Tried to delete: {list(zip(i_to_delete, j_to_delete))}\")\n",
    "        # print(f\"Tried to create: {list(zip(i_to_create, j_to_create))}\")\n",
    "        return old\n",
    "\n",
    "    return network\n",
    "\n",
    "\n",
    "def find_neighbours(network, i):\n",
    "    return np.where(network[i])[0].tolist()\n",
    "\n",
    "\n",
    "def breadth_first_search(occupied, network, start_i):\n",
    "    \"\"\"\n",
    "    Perform Breadth first search on board to find clusters\n",
    "    \"\"\"\n",
    "\n",
    "    # Create list of cells in current cluster\n",
    "    cluster = [start_i]\n",
    "\n",
    "    # Running list of neighbours to check (the queue)\n",
    "    queue = find_neighbours(network, start_i)\n",
    "\n",
    "    while queue:\n",
    "        # Take first cell in neighbours\n",
    "        i = queue.pop(0)\n",
    "\n",
    "        # Find its neighbours\n",
    "        neighbours = find_neighbours(network, i)\n",
    "\n",
    "        # Add cell to cluster, if it is occupied, and not already in it.\n",
    "        # Also add neighbours to queue\n",
    "        if occupied[i] and (i not in cluster):\n",
    "            cluster.append(i)\n",
    "            queue.extend(neighbours)\n",
    "\n",
    "    return cluster\n",
    "\n",
    "\n",
    "def find_largest_cluster(occupied, network):\n",
    "    occupied_indices = np.where(occupied)[0]\n",
    "    found = []\n",
    "    sizes = []\n",
    "    for i in occupied_indices:\n",
    "        # If i is already part of a previous cluster, we skip it\n",
    "        if i in found:\n",
    "            continue\n",
    "\n",
    "        # If not, find largest cluster, add to found nodes, and record size\n",
    "        cluster = breadth_first_search(occupied, network, i)\n",
    "        found.extend(cluster)\n",
    "        sizes.append(len(cluster))\n",
    "    return max(sizes)\n",
    "\n",
    "\n",
    "def percolation1():\n",
    "    network_size = [10**i for i in [5, 4, 3, 2]]\n",
    "    prop = np.linspace(0.1,0.9,num=9)\n",
    "    number_trials = 4\n",
    "\n",
    "    \n",
    "    # probs = np.linspace(0.1, 0.9, number_probabilities)\n",
    "\n",
    "    fig, ax = plt.subplots()\n",
    "    plt.title('Nearest nearbor sytem')\n",
    "    plt.xlabel('1/N')\n",
    "    plt.ylabel('S/N')\n",
    "    for k in trange(len(prop)):\n",
    "\n",
    "        \n",
    "        p = prop[k]\n",
    "        for m in trange(len(network_size)):\n",
    "            size = network_size[m]\n",
    "            network = generate_network_b(size)\n",
    "            sizes = []\n",
    "            average_largest = []\n",
    "            average_std = []\n",
    "            for n in trange(number_trials, leave=False):\n",
    "                occupied = np.random.uniform(size=size)\n",
    "                mask = occupied < p\n",
    "                occupied[mask] = 1\n",
    "                occupied[~mask] = 0\n",
    "                largest = find_largest_cluster(occupied, network)\n",
    "                sizes.append(largest)\n",
    "\n",
    "            average_largest.append(np.mean(sizes))\n",
    "            average_std.append(np.std(sizes))\n",
    "\n",
    "            average_largest = np.array(average_largest)/np.array(network_size)\n",
    "            average_std = np.array(average_std)/np.array(network_size)\n",
    "            x = []\n",
    "            print(average_largest)\n",
    "            for i in range(len(network_size)):\n",
    "                x.append(1/network_size[i])\n",
    "            \n",
    "            ax.errorbar(x, average_largest, average_std,label=p)\n",
    "            ax.set_xscale('log')\n",
    "            \n",
    "    ax.legend(bbox_to_anchor=(1.5,1))\n",
    "    plt.show()\n",
    "\n",
    "\n",
    "if __name__ == \"__main__\":\n",
    "    # net = generate_network_b(100)\n",
    "    # print(net.sum())\n",
    "    # N = 100\n",
    "    # for n in range(1000):\n",
    "    #     node1, node2 = np.random.choice(N, size=2, replace=False)\n",
    "    #     net = switch_bonds(net, node1, node2)\n",
    "    #     print(net.sum())\n",
    "\n",
    "    # rows_that_sum_to_4 = net.sum(axis=0) == 4\n",
    "    # print(f\"we should have {N} rows. We have: {rows_that_sum_to_4.sum()}\")\n",
    "\n",
    "    # diags = [1, -1, N-1, -N+1]\n",
    "    # non_neighbour = net - sum([np.eye(N, k=n, dtype=int) for n in diags])\n",
    "    # rows_that_sum_to_2 = non_neighbour.sum(axis=0) == 2\n",
    "    # print(f\"we should have {N} rows. We have: {rows_that_sum_to_2.sum()}\")\n",
    "    # N = 10\n",
    "    # net = generate_network_a(N)\n",
    "    # occupied = np.ones(N)\n",
    "    # clust = breadth_first_search(occupied, net, 1)\n",
    "    # print(net)\n",
    "    # print(clust)\n",
    "    # print(len(clust))\n",
    "    percolation1()"
   ]
  },
  {
   "cell_type": "code",
   "execution_count": null,
   "metadata": {},
   "outputs": [],
   "source": [
    "import numpy as np\n",
    "import matplotlib.pyplot as plt\n",
    "from tqdm.auto import trange\n",
    "%matplotlib inline\n",
    "\n",
    "\n",
    "def generate_network_a(N):\n",
    "    # Generate neighbours\n",
    "    network = np.zeros((N,N), dtype=np.int8)\n",
    "    for i in range (N):\n",
    "        if i < N-1:\n",
    "            network[i,i+1] = 1\n",
    "            network[i+1,i] = 1\n",
    "    network[0,N-1] = 1\n",
    "    network[N-1,0] = 1\n",
    "    return network\n",
    "\n",
    "\n",
    "def generate_network_b(N):\n",
    "    # Generate neighbours\n",
    "    network = np.zeros((N,N), dtype=np.int8)\n",
    "    for i in range (N):\n",
    "        if i < N-1:\n",
    "            network[i,i+1] = 1\n",
    "            network[i+1,i] = 1\n",
    "        if i < N-2:\n",
    "            network[i,i+2] = 1\n",
    "            network[i+2,i] = 1\n",
    "    network[0,N-1] = 1\n",
    "    network[N-1,0] = 1\n",
    "    network[0,N-2] = 1\n",
    "    network[1,N-1] = 1\n",
    "    network[N-2,0] = 1\n",
    "    network[N-1,1] = 1\n",
    "    return network\n",
    "\n",
    "\n",
    "def swap_bonds(network, node1, node2, r1=None, r2=None):\n",
    "    N = network.shape[0]\n",
    "    diags = [1, -1, N-1, -N+1]\n",
    "    old = network.copy()\n",
    "\n",
    "    # Get nearest neighbours of nodes\n",
    "    node1nearest = [(node1+1) % N, (node1-1) % N]\n",
    "    node2nearest = [(node2+1) % N, (node2-1) % N]\n",
    "\n",
    "    # Generate part of adjacency matrix, without nearest neighbours\n",
    "    non_neighbour = network - sum([np.eye(N, k=n, dtype=np.int8) for n in diags])\n",
    "    # print(f\"Non-nearest neighbours:\\n{non_neighbour}\")\n",
    "\n",
    "    i1 = node1\n",
    "    i2 = node2\n",
    "\n",
    "    # # choose which bonds to swap\n",
    "    r1 = np.random.randint(0, 2)\n",
    "    r2 = np.random.randint(0, 2)\n",
    "\n",
    "    # Grab row from adjacency and find bond indices\n",
    "    row1 = non_neighbour[i1]\n",
    "    bonds1 = np.where(row1)[0]\n",
    "    row2 = non_neighbour[i2]\n",
    "    bonds2 = np.where(row2)[0]\n",
    "\n",
    "    # print(f\"Row1 is row {node1}: {row1}. has bonds {bonds1}\")\n",
    "    # print(f\"Row2 is row {node2}: {row2}. has bonds {bonds2}\")\n",
    "\n",
    "    # choose random bond\n",
    "    j1 = bonds1[r1]\n",
    "    j2 = bonds2[r2]\n",
    "\n",
    "    if (j1 in node2nearest) or (j2 in node1nearest):\n",
    "        # j1 is a nearest neighbour of node2, or j2 is a nearest neighbour of\n",
    "        # j1. ABORT\n",
    "        return network\n",
    "\n",
    "\n",
    "    # print(network.sum())\n",
    "    # delete current bonds\n",
    "    i_to_delete = [i1, j1, i2, j2]\n",
    "    j_to_delete = [j1, i1, j2, i2]\n",
    "    network[i_to_delete, j_to_delete] = 0\n",
    "    sum_delete = network.sum()\n",
    "\n",
    "    # Create new bonds\n",
    "    i_to_create = [i1, j1, i2, j2]\n",
    "    j_to_create = [j2, i2, j1, i1]\n",
    "    # print(i_to_create, j_to_create)\n",
    "    network[i_to_create, j_to_create] = 1\n",
    "    sum_create = network.sum()\n",
    "    # print(network.sum())\n",
    "\n",
    "    if sum_delete + 4 != sum_create:\n",
    "        # We don goofed!\n",
    "        # print(\"Bonds were lost!\")\n",
    "        # print(f\"i1={i1}, j1={j1}, i2={i2}, j2={j2}\")\n",
    "        # print(f\"Original bonds1: {bonds1} and {node1nearest}\")\n",
    "        # print(f\"original bonds2: {bonds2} and {node2nearest}\")\n",
    "        # print(f\"Tried to delete: {list(zip(i_to_delete, j_to_delete))}\")\n",
    "        # print(f\"Tried to create: {list(zip(i_to_create, j_to_create))}\")\n",
    "        return old\n",
    "\n",
    "    return network\n",
    "\n",
    "\n",
    "def find_neighbours(network, i):\n",
    "    return np.where(network[i])[0].tolist()\n",
    "\n",
    "\n",
    "def breadth_first_search(occupied, network, start_i):\n",
    "    \"\"\"\n",
    "    Perform Breadth first search on board to find clusters\n",
    "    \"\"\"\n",
    "\n",
    "    # Create list of cells in current cluster\n",
    "    cluster = [start_i]\n",
    "\n",
    "    # Running list of neighbours to check (the queue)\n",
    "    queue = find_neighbours(network, start_i)\n",
    "\n",
    "    while queue:\n",
    "        # Take first cell in neighbours\n",
    "        i = queue.pop(0)\n",
    "\n",
    "        # Find its neighbours\n",
    "        neighbours = find_neighbours(network, i)\n",
    "\n",
    "        # Add cell to cluster, if it is occupied, and not already in it.\n",
    "        # Also add neighbours to queue\n",
    "        if occupied[i] and (i not in cluster):\n",
    "            cluster.append(i)\n",
    "            queue.extend(neighbours)\n",
    "\n",
    "    return cluster\n",
    "\n",
    "\n",
    "def find_largest_cluster(occupied, network):\n",
    "    occupied_indices = np.where(occupied)[0]\n",
    "    found = []\n",
    "    sizes = []\n",
    "    for i in occupied_indices:\n",
    "        # If i is already part of a previous cluster, we skip it\n",
    "        if i in found:\n",
    "            continue\n",
    "\n",
    "        # If not, find largest cluster, add to found nodes, and record size\n",
    "        cluster = breadth_first_search(occupied, network, i)\n",
    "        found.extend(cluster)\n",
    "        sizes.append(len(cluster))\n",
    "    return max(sizes)\n",
    "\n",
    "\n",
    "def percolation2():\n",
    "    network_size = [10**i for i in [5, 4, 3, 2]]\n",
    "    prop = np.linspace(0.1,0.9,num=9)\n",
    "    number_trials = 4\n",
    "\n",
    "    \n",
    "    # probs = np.linspace(0.1, 0.9, number_probabilities)\n",
    "\n",
    "    fig, ax = plt.subplots()\n",
    "    plt.title('Nearest nearbor sytem')\n",
    "    plt.xlabel('1/N')\n",
    "    plt.ylabel('S/N')\n",
    "    for k in trange(len(prop)):\n",
    "\n",
    "        \n",
    "        p = prop[k]\n",
    "        for m in trange(len(network_size)):\n",
    "            size = network_size[m]\n",
    "            node1, node2 = np.random.choice(size, size=2, replace=False)\n",
    "            network = generate_network_b(size)\n",
    "            for over in range(5):\n",
    "                network = swap_bonds(network,node1,node2)\n",
    "            sizes = []\n",
    "            average_largest = []\n",
    "            average_std = []\n",
    "            for n in trange(number_trials, leave=False):\n",
    "                occupied = np.random.uniform(size=size)\n",
    "                mask = occupied < p\n",
    "                occupied[mask] = 1\n",
    "                occupied[~mask] = 0\n",
    "                largest = find_largest_cluster(occupied, network)\n",
    "                sizes.append(largest)\n",
    "\n",
    "            average_largest.append(np.mean(sizes))\n",
    "            average_std.append(np.std(sizes))\n",
    "\n",
    "            average_largest = np.array(average_largest)/np.array(network_size)\n",
    "            average_std = np.array(average_std)/np.array(network_size)\n",
    "            x = []\n",
    "            print(average_largest)\n",
    "            for i in range(len(network_size)):\n",
    "                x.append(1/network_size[i])\n",
    "            \n",
    "            ax.errorbar(x, average_largest, average_std,label=p)\n",
    "            ax.set_xscale('log')\n",
    "            \n",
    "    ax.legend(bbox_to_anchor=(1.5,1))\n",
    "    return plt.show()\n",
    "\n",
    "\n",
    "if __name__ == \"__main__\":\n",
    "\n",
    "    percolation2()"
   ]
  }
 ],
 "metadata": {
  "kernelspec": {
   "display_name": "Python 3",
   "language": "python",
   "name": "python3"
  }
 },
 "nbformat": 4,
 "nbformat_minor": 2
}
